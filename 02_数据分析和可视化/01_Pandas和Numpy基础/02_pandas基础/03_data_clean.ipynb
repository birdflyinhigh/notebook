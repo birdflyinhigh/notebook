{
 "cells": [
  {
   "cell_type": "code",
   "execution_count": 2,
   "metadata": {},
   "outputs": [
    {
     "name": "stdout",
     "output_type": "stream",
     "text": [
      "<class 'pandas.core.frame.DataFrame'>\nRangeIndex: 1303 entries, 0 to 1302\nData columns (total 13 columns):\nManufacturer                1303 non-null object\nModel Name                  1303 non-null object\nCategory                    1303 non-null object\nScreen Size                 1303 non-null object\nScreen                      1303 non-null object\nCPU                         1303 non-null object\nRAM                         1303 non-null object\n Storage                    1303 non-null object\nGPU                         1303 non-null object\nOperating System            1303 non-null object\nOperating System Version    1133 non-null object\nWeight                      1303 non-null object\nPrice (Euros)               1303 non-null object\ndtypes: object(13)\nmemory usage: 66.2+ KB\nNone\n"
     ]
    }
   ],
   "source": [
    "import pandas as pd \n",
    "df = pd.read_csv('laptops.csv')\n",
    "print(df.info())"
   ]
  },
  {
   "cell_type": "code",
   "execution_count": 3,
   "metadata": {},
   "outputs": [
    {
     "name": "stdout",
     "output_type": "stream",
     "text": [
      "Index(['Manufacturer', 'Model Name', 'Category', 'Screen Size', 'Screen',\n       'CPU', 'RAM', ' Storage', 'GPU', 'Operating System',\n       'Operating System Version', 'Weight', 'Price (Euros)'],\n      dtype='object')\n"
     ]
    }
   ],
   "source": [
    "print(df.columns)"
   ]
  },
  {
   "cell_type": "code",
   "execution_count": 11,
   "metadata": {},
   "outputs": [
    {
     "name": "stdout",
     "output_type": "stream",
     "text": [
      "manufacturer\nmodel_name\ncategory\nscreen_size\nscreen\ncpu\nram\nstorage\ngpu\nos\nos_version\nweight\nprice_euros\nIndex(['manufacturer', 'model_name', 'category', 'screen_size', 'screen',\n       'cpu', 'ram', 'storage', 'gpu', 'os', 'os_version', 'weight',\n       'price_euros'],\n      dtype='object')\n"
     ]
    }
   ],
   "source": [
    "def clean_col(col):\n",
    "    col = col.strip()\n",
    "    col = col.replace('operating_system', 'os')\n",
    "    col = col.replace(' ', '_')\n",
    "    col = col.replace('(', '')\n",
    "    col = col.replace(')', '')\n",
    "    col = col.lower()\n",
    "    return col\n",
    "df.columns = [clean_col(col) for col in df.columns]\n",
    "\n",
    "\n"
   ]
  },
  {
   "cell_type": "code",
   "execution_count": null,
   "metadata": {},
   "outputs": [],
   "source": [
    "df"
   ]
  }
 ],
 "metadata": {
  "kernelspec": {
   "name": "python3",
   "language": "python",
   "display_name": "Python 3"
  },
  "language_info": {
   "name": "python",
   "version": "3.7.0",
   "mimetype": "text/x-python",
   "codemirror_mode": {
    "name": "ipython",
    "version": 3
   },
   "pygments_lexer": "ipython3",
   "nbconvert_exporter": "python",
   "file_extension": ".py"
  },
  "kernel_info": {
   "name": "python3"
  },
  "nteract": {
   "version": "0.12.3"
  }
 },
 "nbformat": 4,
 "nbformat_minor": 1
}
