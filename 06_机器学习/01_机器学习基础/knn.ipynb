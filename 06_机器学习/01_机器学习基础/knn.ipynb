{
 "cells": [
  {
   "cell_type": "code",
   "execution_count": 6,
   "metadata": {
    "collapsed": true
   },
   "outputs": [
    {
     "name": "stdout",
     "output_type": "stream",
     "text": [
      "  host_response_rate host_acceptance_rate  host_listings_count  accommodates  \\\n0                92%                  91%                   26             4   \n1                90%                 100%                    1             6   \n2                90%                 100%                    2             1   \n3               100%                  NaN                    1             2   \n4                92%                  67%                    1             4   \n\n         room_type  bedrooms  bathrooms  beds    price cleaning_fee  \\\n0  Entire home/apt       1.0        1.0   2.0  $160.00      $115.00   \n1  Entire home/apt       3.0        3.0   3.0  $350.00      $100.00   \n2     Private room       1.0        2.0   1.0   $50.00          NaN   \n3     Private room       1.0        1.0   1.0   $95.00          NaN   \n4  Entire home/apt       1.0        1.0   1.0   $50.00       $15.00   \n\n  security_deposit  minimum_nights  maximum_nights  number_of_reviews  \\\n0          $100.00               1            1125                  0   \n1              NaN               2              30                 65   \n2              NaN               2            1125                  1   \n3              NaN               1            1125                  0   \n4          $450.00               7            1125                  0   \n\n    latitude  longitude           city zipcode state  \n0  38.890046 -77.002808     Washington   20003    DC  \n1  38.880413 -76.990485     Washington   20003    DC  \n2  38.955291 -76.986006    Hyattsville   20782    MD  \n3  38.872134 -77.019639     Washington   20024    DC  \n4  38.996382 -77.041541  Silver Spring   20910    MD  \n"
     ]
    }
   ],
   "source": [
    "# 读取csv数据，保存到dc_listings中\n",
    "import pandas as pd\n",
    "dc_listings = pd.read_csv('dc_airbnb.csv')\n",
    "print(dc_listings.head())"
   ]
  },
  {
   "cell_type": "code",
   "execution_count": 8,
   "metadata": {},
   "outputs": [
    {
     "name": "stdout",
     "output_type": "stream",
     "text": [
      "0    1\n1    3\n2    2\n3    1\n4    1\nName: accommodates, dtype: int64\n"
     ]
    }
   ],
   "source": [
    "# 计算可住人数与3的欧几里得长度\n",
    "import numpy as np\n",
    "\n",
    "first_distance = abs(dc_listings.accommodates - 3 )\n",
    "print(first_distance.head())"
   ]
  },
  {
   "cell_type": "code",
   "execution_count": 27,
   "metadata": {},
   "outputs": [
    {
     "name": "stdout",
     "output_type": "stream",
     "text": [
      "count      14.000000\nmean      265.928571\nstd       609.122631\nmin         2.000000\n25%         7.250000\n50%        19.500000\n75%       227.500000\nmax      2294.000000\nName: distance, dtype: float64\n"
     ]
    }
   ],
   "source": [
    "# 将可住人数和3的距离算出来,赋值给df \n",
    "dc_listings['distance'] = abs(dc_listings.accommodates-3)\n",
    "\n",
    "values = dc_listings['distance'].value_counts().sort_index()\n",
    "\n",
    "print(values.describe())"
   ]
  },
  {
   "cell_type": "code",
   "execution_count": 50,
   "metadata": {},
   "outputs": [
    {
     "name": "stdout",
     "output_type": "stream",
     "text": [
      "577     $185.00\n2166    $180.00\n3631    $175.00\n71      $128.00\n1011    $115.00\n380     $219.00\n943     $125.00\n3107    $250.00\n1499     $94.00\n625     $150.00\nName: price, dtype: object\n"
     ]
    }
   ],
   "source": [
    "import numpy as np \n",
    "\n",
    "np.random.seed(1)\n",
    "\n",
    "dc_listings = dc_listings.iloc[np.random.permutation(dc_listings.shape[0])]\n",
    "dc_listings = dc_listings.sort_values('distance')\n",
    "print(dc_listings.iloc[:10]['price'])\n",
    "\n"
   ]
  },
  {
   "cell_type": "code",
   "execution_count": 46,
   "metadata": {},
   "outputs": [],
   "source": []
  },
  {
   "cell_type": "code",
   "execution_count": 26,
   "metadata": {},
   "outputs": [],
   "source": []
  },
  {
   "cell_type": "code",
   "execution_count": 26,
   "metadata": {},
   "outputs": [],
   "source": []
  },
  {
   "cell_type": "code",
   "execution_count": 26,
   "metadata": {},
   "outputs": [],
   "source": []
  },
  {
   "cell_type": "code",
   "execution_count": 26,
   "metadata": {},
   "outputs": [],
   "source": []
  },
  {
   "cell_type": "code",
   "execution_count": 26,
   "metadata": {},
   "outputs": [],
   "source": []
  },
  {
   "cell_type": "code",
   "execution_count": 26,
   "metadata": {},
   "outputs": [],
   "source": []
  },
  {
   "cell_type": "code",
   "execution_count": 26,
   "metadata": {},
   "outputs": [],
   "source": []
  },
  {
   "cell_type": "code",
   "execution_count": 26,
   "metadata": {},
   "outputs": [],
   "source": []
  },
  {
   "cell_type": "code",
   "execution_count": 26,
   "metadata": {},
   "outputs": [],
   "source": []
  },
  {
   "cell_type": "code",
   "execution_count": 26,
   "metadata": {},
   "outputs": [],
   "source": []
  },
  {
   "cell_type": "code",
   "execution_count": 26,
   "metadata": {},
   "outputs": [],
   "source": []
  },
  {
   "cell_type": "code",
   "execution_count": null,
   "metadata": {},
   "outputs": [],
   "source": []
  }
 ],
 "metadata": {
  "kernelspec": {
   "display_name": "Python 2",
   "language": "python",
   "name": "python2"
  },
  "language_info": {
   "codemirror_mode": {
    "name": "ipython",
    "version": 2
   },
   "file_extension": ".py",
   "mimetype": "text/x-python",
   "name": "python",
   "nbconvert_exporter": "python",
   "pygments_lexer": "ipython2",
   "version": "2.7.6"
  }
 },
 "nbformat": 4,
 "nbformat_minor": 0
}
